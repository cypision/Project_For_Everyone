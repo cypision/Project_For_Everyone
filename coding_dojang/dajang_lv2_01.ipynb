{
 "cells": [
  {
   "cell_type": "code",
   "execution_count": 15,
   "metadata": {},
   "outputs": [
    {
     "name": "stdout",
     "output_type": "stream",
     "text": [
      "8\n"
     ]
    }
   ],
   "source": [
    "a = 98%10\n",
    "print(a)\n",
    "# print(int(a))"
   ]
  },
  {
   "cell_type": "code",
   "execution_count": 36,
   "metadata": {},
   "outputs": [
    {
     "name": "stdout",
     "output_type": "stream",
     "text": [
      "1227365\n"
     ]
    }
   ],
   "source": [
    "def find_generator(input):\n",
    "    str01 = str(input)\n",
    "    num = 0\n",
    "    for i in str01:\n",
    "        num = num+int(i)\n",
    "    num = num+int(input)\n",
    "    return num\n",
    "\n",
    "r_01 = []\n",
    "for inx in range(5000):\n",
    "    r_01.append(find_generator(inx))\n",
    "\n",
    "s_01 = set(r_01)    \n",
    "s_02 = set([n for n in range(1,5001)])\n",
    "r_02 = list(s_02-s_01)\n",
    "result = 0\n",
    "for n in r_02:\n",
    "    result += n\n",
    "print(result)    \n"
   ]
  },
  {
   "cell_type": "code",
   "execution_count": null,
   "metadata": {
    "collapsed": true
   },
   "outputs": [],
   "source": []
  },
  {
   "cell_type": "code",
   "execution_count": null,
   "metadata": {
    "collapsed": true
   },
   "outputs": [],
   "source": []
  },
  {
   "cell_type": "code",
   "execution_count": null,
   "metadata": {
    "collapsed": true
   },
   "outputs": [],
   "source": []
  }
 ],
 "metadata": {
  "kernelspec": {
   "display_name": "Python 3",
   "language": "python",
   "name": "python3"
  },
  "language_info": {
   "codemirror_mode": {
    "name": "ipython",
    "version": 3
   },
   "file_extension": ".py",
   "mimetype": "text/x-python",
   "name": "python",
   "nbconvert_exporter": "python",
   "pygments_lexer": "ipython3",
   "version": "3.6.1"
  }
 },
 "nbformat": 4,
 "nbformat_minor": 2
}
